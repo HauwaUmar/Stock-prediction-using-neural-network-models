{
  "nbformat": 4,
  "nbformat_minor": 0,
  "metadata": {
    "colab": {
      "provenance": [],
      "authorship_tag": "ABX9TyMfbh49x378ua/GrLtY0JrP",
      "include_colab_link": true
    },
    "kernelspec": {
      "name": "python3",
      "display_name": "Python 3"
    },
    "language_info": {
      "name": "python"
    }
  },
  "cells": [
    {
      "cell_type": "markdown",
      "metadata": {
        "id": "view-in-github",
        "colab_type": "text"
      },
      "source": [
        "<a href=\"https://colab.research.google.com/github/HauwaUmar/Stock-prediction-using-neural-network-models/blob/main/lstm_stock_prediction.ipynb\" target=\"_parent\"><img src=\"https://colab.research.google.com/assets/colab-badge.svg\" alt=\"Open In Colab\"/></a>"
      ]
    },
    {
      "cell_type": "code",
      "source": [
        "!pip install yfinance"
      ],
      "metadata": {
        "colab": {
          "base_uri": "https://localhost:8080/"
        },
        "id": "AMhRlUCR0coq",
        "outputId": "d76b791c-d26d-401b-ec86-9b1a842e91a6"
      },
      "execution_count": 3,
      "outputs": [
        {
          "output_type": "stream",
          "name": "stdout",
          "text": [
            "Looking in indexes: https://pypi.org/simple, https://us-python.pkg.dev/colab-wheels/public/simple/\n",
            "Collecting yfinance\n",
            "  Using cached yfinance-0.2.10-py2.py3-none-any.whl (59 kB)\n",
            "Requirement already satisfied: lxml>=4.9.1 in /usr/local/lib/python3.8/dist-packages (from yfinance) (4.9.2)\n",
            "Collecting requests>=2.26\n",
            "  Downloading requests-2.28.2-py3-none-any.whl (62 kB)\n",
            "\u001b[2K     \u001b[90m━━━━━━━━━━━━━━━━━━━━━━━━━━━━━━━━━━━━━━━━\u001b[0m \u001b[32m62.8/62.8 KB\u001b[0m \u001b[31m5.6 MB/s\u001b[0m eta \u001b[36m0:00:00\u001b[0m\n",
            "\u001b[?25hCollecting html5lib>=1.1\n",
            "  Downloading html5lib-1.1-py2.py3-none-any.whl (112 kB)\n",
            "\u001b[2K     \u001b[90m━━━━━━━━━━━━━━━━━━━━━━━━━━━━━━━━━━━━━━━\u001b[0m \u001b[32m112.2/112.2 KB\u001b[0m \u001b[31m9.0 MB/s\u001b[0m eta \u001b[36m0:00:00\u001b[0m\n",
            "\u001b[?25hRequirement already satisfied: multitasking>=0.0.7 in /usr/local/lib/python3.8/dist-packages (from yfinance) (0.0.11)\n",
            "Collecting frozendict>=2.3.4\n",
            "  Downloading frozendict-2.3.4-cp38-cp38-manylinux_2_17_x86_64.manylinux2014_x86_64.whl (110 kB)\n",
            "\u001b[2K     \u001b[90m━━━━━━━━━━━━━━━━━━━━━━━━━━━━━━━━━━━━━━\u001b[0m \u001b[32m111.0/111.0 KB\u001b[0m \u001b[31m10.3 MB/s\u001b[0m eta \u001b[36m0:00:00\u001b[0m\n",
            "\u001b[?25hCollecting beautifulsoup4>=4.11.1\n",
            "  Downloading beautifulsoup4-4.11.2-py3-none-any.whl (129 kB)\n",
            "\u001b[2K     \u001b[90m━━━━━━━━━━━━━━━━━━━━━━━━━━━━━━━━━━━━━━\u001b[0m \u001b[32m129.4/129.4 KB\u001b[0m \u001b[31m15.2 MB/s\u001b[0m eta \u001b[36m0:00:00\u001b[0m\n",
            "\u001b[?25hRequirement already satisfied: appdirs>=1.4.4 in /usr/local/lib/python3.8/dist-packages (from yfinance) (1.4.4)\n",
            "Collecting cryptography>=3.3.2\n",
            "  Downloading cryptography-39.0.1-cp36-abi3-manylinux_2_28_x86_64.whl (4.2 MB)\n",
            "\u001b[2K     \u001b[90m━━━━━━━━━━━━━━━━━━━━━━━━━━━━━━━━━━━━━━━━\u001b[0m \u001b[32m4.2/4.2 MB\u001b[0m \u001b[31m68.2 MB/s\u001b[0m eta \u001b[36m0:00:00\u001b[0m\n",
            "\u001b[?25hRequirement already satisfied: numpy>=1.16.5 in /usr/local/lib/python3.8/dist-packages (from yfinance) (1.21.6)\n",
            "Requirement already satisfied: pytz>=2022.5 in /usr/local/lib/python3.8/dist-packages (from yfinance) (2022.7.1)\n",
            "Requirement already satisfied: pandas>=1.3.0 in /usr/local/lib/python3.8/dist-packages (from yfinance) (1.3.5)\n",
            "Collecting soupsieve>1.2\n",
            "  Downloading soupsieve-2.3.2.post1-py3-none-any.whl (37 kB)\n",
            "Requirement already satisfied: cffi>=1.12 in /usr/local/lib/python3.8/dist-packages (from cryptography>=3.3.2->yfinance) (1.15.1)\n",
            "Requirement already satisfied: six>=1.9 in /usr/local/lib/python3.8/dist-packages (from html5lib>=1.1->yfinance) (1.15.0)\n",
            "Requirement already satisfied: webencodings in /usr/local/lib/python3.8/dist-packages (from html5lib>=1.1->yfinance) (0.5.1)\n",
            "Requirement already satisfied: python-dateutil>=2.7.3 in /usr/local/lib/python3.8/dist-packages (from pandas>=1.3.0->yfinance) (2.8.2)\n",
            "Requirement already satisfied: urllib3<1.27,>=1.21.1 in /usr/local/lib/python3.8/dist-packages (from requests>=2.26->yfinance) (1.24.3)\n",
            "Requirement already satisfied: charset-normalizer<4,>=2 in /usr/local/lib/python3.8/dist-packages (from requests>=2.26->yfinance) (2.1.1)\n",
            "Requirement already satisfied: certifi>=2017.4.17 in /usr/local/lib/python3.8/dist-packages (from requests>=2.26->yfinance) (2022.12.7)\n",
            "Requirement already satisfied: idna<4,>=2.5 in /usr/local/lib/python3.8/dist-packages (from requests>=2.26->yfinance) (2.10)\n",
            "Requirement already satisfied: pycparser in /usr/local/lib/python3.8/dist-packages (from cffi>=1.12->cryptography>=3.3.2->yfinance) (2.21)\n",
            "Installing collected packages: soupsieve, requests, html5lib, frozendict, cryptography, beautifulsoup4, yfinance\n",
            "  Attempting uninstall: requests\n",
            "    Found existing installation: requests 2.25.1\n",
            "    Uninstalling requests-2.25.1:\n",
            "      Successfully uninstalled requests-2.25.1\n",
            "  Attempting uninstall: html5lib\n",
            "    Found existing installation: html5lib 1.0.1\n",
            "    Uninstalling html5lib-1.0.1:\n",
            "      Successfully uninstalled html5lib-1.0.1\n",
            "  Attempting uninstall: beautifulsoup4\n",
            "    Found existing installation: beautifulsoup4 4.6.3\n",
            "    Uninstalling beautifulsoup4-4.6.3:\n",
            "      Successfully uninstalled beautifulsoup4-4.6.3\n",
            "Successfully installed beautifulsoup4-4.11.2 cryptography-39.0.1 frozendict-2.3.4 html5lib-1.1 requests-2.28.2 soupsieve-2.3.2.post1 yfinance-0.2.10\n"
          ]
        }
      ]
    },
    {
      "cell_type": "code",
      "execution_count": 6,
      "metadata": {
        "id": "PD0DU_ZyyVle"
      },
      "outputs": [],
      "source": [
        "import yfinance as yf\n",
        "import pandas as pd\n",
        "import numpy as np\n",
        "import matplotlib.pyplot as plt\n",
        "import matplotlib.dates as dates\n",
        "import seaborn as sns\n",
        "import math\n",
        "import datetime\n",
        "import keras\n",
        "import warnings\n",
        "warnings.filterwarnings('ignore')\n",
        "\n",
        "from datetime import date, timedelta\n",
        "from keras.models import Sequential\n",
        "from keras.layers import Dense\n",
        "from keras.layers import LSTM\n",
        "from keras.layers import Dropout\n",
        "from keras.layers import *\n",
        "from keras.callbacks import EarlyStopping\n",
        "from sklearn.preprocessing import MinMaxScaler\n",
        "from sklearn.metrics import mean_squared_error\n",
        "from sklearn.metrics import mean_absolute_error\n",
        "import datetime"
      ]
    },
    {
      "cell_type": "code",
      "source": [
        "now = datetime.datetime.now().strftime(\"%Y-%m-%d\")\n",
        "pfe = yf.download(\"PFE\", start=\"2014-07-10\", end=now)\n",
        "pfe"
      ],
      "metadata": {
        "colab": {
          "base_uri": "https://localhost:8080/",
          "height": 472
        },
        "id": "oWfKFZHF0liU",
        "outputId": "2bdd851d-e732-4b8d-df81-815b61ad1c40"
      },
      "execution_count": 7,
      "outputs": [
        {
          "output_type": "stream",
          "name": "stdout",
          "text": [
            "\r[*********************100%***********************]  1 of 1 completed\n"
          ]
        },
        {
          "output_type": "execute_result",
          "data": {
            "text/plain": [
              "                 Open       High        Low      Close  Adj Close    Volume\n",
              "Date                                                                       \n",
              "2014-07-10  28.235294  28.500950  28.064516  28.462997  20.729725  21200367\n",
              "2014-07-11  28.500950  28.576851  28.273245  28.529411  20.778097  19350913\n",
              "2014-07-14  28.643265  28.776091  28.557875  28.690702  20.895567  21589820\n",
              "2014-07-15  28.652752  29.051233  28.652752  28.851992  21.013031  32000494\n",
              "2014-07-16  28.946869  29.383303  28.814041  29.373814  21.393078  37260165\n",
              "...               ...        ...        ...        ...        ...       ...\n",
              "2023-02-02  43.630001  44.459999  43.500000  44.340000  44.340000  35279200\n",
              "2023-02-03  44.360001  44.389999  43.880001  44.060001  44.060001  23731000\n",
              "2023-02-06  44.189999  44.299999  43.730000  43.759998  43.759998  18071200\n",
              "2023-02-07  43.820000  43.900002  43.250000  43.590000  43.590000  22999500\n",
              "2023-02-08  43.549999  44.099998  43.529999  43.980000  43.980000  19362300\n",
              "\n",
              "[2162 rows x 6 columns]"
            ],
            "text/html": [
              "\n",
              "  <div id=\"df-eb88f5f5-c830-49c4-a0f0-4909739016a4\">\n",
              "    <div class=\"colab-df-container\">\n",
              "      <div>\n",
              "<style scoped>\n",
              "    .dataframe tbody tr th:only-of-type {\n",
              "        vertical-align: middle;\n",
              "    }\n",
              "\n",
              "    .dataframe tbody tr th {\n",
              "        vertical-align: top;\n",
              "    }\n",
              "\n",
              "    .dataframe thead th {\n",
              "        text-align: right;\n",
              "    }\n",
              "</style>\n",
              "<table border=\"1\" class=\"dataframe\">\n",
              "  <thead>\n",
              "    <tr style=\"text-align: right;\">\n",
              "      <th></th>\n",
              "      <th>Open</th>\n",
              "      <th>High</th>\n",
              "      <th>Low</th>\n",
              "      <th>Close</th>\n",
              "      <th>Adj Close</th>\n",
              "      <th>Volume</th>\n",
              "    </tr>\n",
              "    <tr>\n",
              "      <th>Date</th>\n",
              "      <th></th>\n",
              "      <th></th>\n",
              "      <th></th>\n",
              "      <th></th>\n",
              "      <th></th>\n",
              "      <th></th>\n",
              "    </tr>\n",
              "  </thead>\n",
              "  <tbody>\n",
              "    <tr>\n",
              "      <th>2014-07-10</th>\n",
              "      <td>28.235294</td>\n",
              "      <td>28.500950</td>\n",
              "      <td>28.064516</td>\n",
              "      <td>28.462997</td>\n",
              "      <td>20.729725</td>\n",
              "      <td>21200367</td>\n",
              "    </tr>\n",
              "    <tr>\n",
              "      <th>2014-07-11</th>\n",
              "      <td>28.500950</td>\n",
              "      <td>28.576851</td>\n",
              "      <td>28.273245</td>\n",
              "      <td>28.529411</td>\n",
              "      <td>20.778097</td>\n",
              "      <td>19350913</td>\n",
              "    </tr>\n",
              "    <tr>\n",
              "      <th>2014-07-14</th>\n",
              "      <td>28.643265</td>\n",
              "      <td>28.776091</td>\n",
              "      <td>28.557875</td>\n",
              "      <td>28.690702</td>\n",
              "      <td>20.895567</td>\n",
              "      <td>21589820</td>\n",
              "    </tr>\n",
              "    <tr>\n",
              "      <th>2014-07-15</th>\n",
              "      <td>28.652752</td>\n",
              "      <td>29.051233</td>\n",
              "      <td>28.652752</td>\n",
              "      <td>28.851992</td>\n",
              "      <td>21.013031</td>\n",
              "      <td>32000494</td>\n",
              "    </tr>\n",
              "    <tr>\n",
              "      <th>2014-07-16</th>\n",
              "      <td>28.946869</td>\n",
              "      <td>29.383303</td>\n",
              "      <td>28.814041</td>\n",
              "      <td>29.373814</td>\n",
              "      <td>21.393078</td>\n",
              "      <td>37260165</td>\n",
              "    </tr>\n",
              "    <tr>\n",
              "      <th>...</th>\n",
              "      <td>...</td>\n",
              "      <td>...</td>\n",
              "      <td>...</td>\n",
              "      <td>...</td>\n",
              "      <td>...</td>\n",
              "      <td>...</td>\n",
              "    </tr>\n",
              "    <tr>\n",
              "      <th>2023-02-02</th>\n",
              "      <td>43.630001</td>\n",
              "      <td>44.459999</td>\n",
              "      <td>43.500000</td>\n",
              "      <td>44.340000</td>\n",
              "      <td>44.340000</td>\n",
              "      <td>35279200</td>\n",
              "    </tr>\n",
              "    <tr>\n",
              "      <th>2023-02-03</th>\n",
              "      <td>44.360001</td>\n",
              "      <td>44.389999</td>\n",
              "      <td>43.880001</td>\n",
              "      <td>44.060001</td>\n",
              "      <td>44.060001</td>\n",
              "      <td>23731000</td>\n",
              "    </tr>\n",
              "    <tr>\n",
              "      <th>2023-02-06</th>\n",
              "      <td>44.189999</td>\n",
              "      <td>44.299999</td>\n",
              "      <td>43.730000</td>\n",
              "      <td>43.759998</td>\n",
              "      <td>43.759998</td>\n",
              "      <td>18071200</td>\n",
              "    </tr>\n",
              "    <tr>\n",
              "      <th>2023-02-07</th>\n",
              "      <td>43.820000</td>\n",
              "      <td>43.900002</td>\n",
              "      <td>43.250000</td>\n",
              "      <td>43.590000</td>\n",
              "      <td>43.590000</td>\n",
              "      <td>22999500</td>\n",
              "    </tr>\n",
              "    <tr>\n",
              "      <th>2023-02-08</th>\n",
              "      <td>43.549999</td>\n",
              "      <td>44.099998</td>\n",
              "      <td>43.529999</td>\n",
              "      <td>43.980000</td>\n",
              "      <td>43.980000</td>\n",
              "      <td>19362300</td>\n",
              "    </tr>\n",
              "  </tbody>\n",
              "</table>\n",
              "<p>2162 rows × 6 columns</p>\n",
              "</div>\n",
              "      <button class=\"colab-df-convert\" onclick=\"convertToInteractive('df-eb88f5f5-c830-49c4-a0f0-4909739016a4')\"\n",
              "              title=\"Convert this dataframe to an interactive table.\"\n",
              "              style=\"display:none;\">\n",
              "        \n",
              "  <svg xmlns=\"http://www.w3.org/2000/svg\" height=\"24px\"viewBox=\"0 0 24 24\"\n",
              "       width=\"24px\">\n",
              "    <path d=\"M0 0h24v24H0V0z\" fill=\"none\"/>\n",
              "    <path d=\"M18.56 5.44l.94 2.06.94-2.06 2.06-.94-2.06-.94-.94-2.06-.94 2.06-2.06.94zm-11 1L8.5 8.5l.94-2.06 2.06-.94-2.06-.94L8.5 2.5l-.94 2.06-2.06.94zm10 10l.94 2.06.94-2.06 2.06-.94-2.06-.94-.94-2.06-.94 2.06-2.06.94z\"/><path d=\"M17.41 7.96l-1.37-1.37c-.4-.4-.92-.59-1.43-.59-.52 0-1.04.2-1.43.59L10.3 9.45l-7.72 7.72c-.78.78-.78 2.05 0 2.83L4 21.41c.39.39.9.59 1.41.59.51 0 1.02-.2 1.41-.59l7.78-7.78 2.81-2.81c.8-.78.8-2.07 0-2.86zM5.41 20L4 18.59l7.72-7.72 1.47 1.35L5.41 20z\"/>\n",
              "  </svg>\n",
              "      </button>\n",
              "      \n",
              "  <style>\n",
              "    .colab-df-container {\n",
              "      display:flex;\n",
              "      flex-wrap:wrap;\n",
              "      gap: 12px;\n",
              "    }\n",
              "\n",
              "    .colab-df-convert {\n",
              "      background-color: #E8F0FE;\n",
              "      border: none;\n",
              "      border-radius: 50%;\n",
              "      cursor: pointer;\n",
              "      display: none;\n",
              "      fill: #1967D2;\n",
              "      height: 32px;\n",
              "      padding: 0 0 0 0;\n",
              "      width: 32px;\n",
              "    }\n",
              "\n",
              "    .colab-df-convert:hover {\n",
              "      background-color: #E2EBFA;\n",
              "      box-shadow: 0px 1px 2px rgba(60, 64, 67, 0.3), 0px 1px 3px 1px rgba(60, 64, 67, 0.15);\n",
              "      fill: #174EA6;\n",
              "    }\n",
              "\n",
              "    [theme=dark] .colab-df-convert {\n",
              "      background-color: #3B4455;\n",
              "      fill: #D2E3FC;\n",
              "    }\n",
              "\n",
              "    [theme=dark] .colab-df-convert:hover {\n",
              "      background-color: #434B5C;\n",
              "      box-shadow: 0px 1px 3px 1px rgba(0, 0, 0, 0.15);\n",
              "      filter: drop-shadow(0px 1px 2px rgba(0, 0, 0, 0.3));\n",
              "      fill: #FFFFFF;\n",
              "    }\n",
              "  </style>\n",
              "\n",
              "      <script>\n",
              "        const buttonEl =\n",
              "          document.querySelector('#df-eb88f5f5-c830-49c4-a0f0-4909739016a4 button.colab-df-convert');\n",
              "        buttonEl.style.display =\n",
              "          google.colab.kernel.accessAllowed ? 'block' : 'none';\n",
              "\n",
              "        async function convertToInteractive(key) {\n",
              "          const element = document.querySelector('#df-eb88f5f5-c830-49c4-a0f0-4909739016a4');\n",
              "          const dataTable =\n",
              "            await google.colab.kernel.invokeFunction('convertToInteractive',\n",
              "                                                     [key], {});\n",
              "          if (!dataTable) return;\n",
              "\n",
              "          const docLinkHtml = 'Like what you see? Visit the ' +\n",
              "            '<a target=\"_blank\" href=https://colab.research.google.com/notebooks/data_table.ipynb>data table notebook</a>'\n",
              "            + ' to learn more about interactive tables.';\n",
              "          element.innerHTML = '';\n",
              "          dataTable['output_type'] = 'display_data';\n",
              "          await google.colab.output.renderOutput(dataTable, element);\n",
              "          const docLink = document.createElement('div');\n",
              "          docLink.innerHTML = docLinkHtml;\n",
              "          element.appendChild(docLink);\n",
              "        }\n",
              "      </script>\n",
              "    </div>\n",
              "  </div>\n",
              "  "
            ]
          },
          "metadata": {},
          "execution_count": 7
        }
      ]
    },
    {
      "cell_type": "code",
      "source": [
        "\n",
        "# Plot Adjusted Close price\n",
        "\n",
        "pfe['Adj Close'].plot(grid = True)\n",
        "sns.set(rc={'figure.figsize':(16, 8)})\n",
        "plt.title('PFE Adjusted Close Price', color = 'black', fontsize = 20)\n",
        "plt.xlabel('Year', color = 'black', fontsize = 15)\n",
        "plt.ylabel('Stock price', color = 'black', fontsize = 15);"
      ],
      "metadata": {
        "colab": {
          "base_uri": "https://localhost:8080/",
          "height": 295
        },
        "id": "7dCPZy-D0low",
        "outputId": "4125e4e1-1386-4899-a4eb-43029150ea5b"
      },
      "execution_count": 8,
      "outputs": [
        {
          "output_type": "display_data",
          "data": {
            "text/plain": [
              "<Figure size 432x288 with 1 Axes>"
            ],
            "image/png": "[encoded data removed]"
          },
          "metadata": {
            "needs_background": "light"
          }
        }
      ]
    },
    {
      "cell_type": "code",
      "source": [
        "pfe_adj = pfe[['Adj Close']]"
      ],
      "metadata": {
        "id": "aGzFDSx50ltO"
      },
      "execution_count": 9,
      "outputs": []
    },
    {
      "cell_type": "code",
      "source": [
        "\n",
        "# Convert DataFrame to numpy array\n",
        "pfe_adj_arr = pfe_adj.values\n",
        "\n",
        "# Find number of rows to train model on (80% of data set) \n",
        "training_data_len = int(0.8*len(pfe_adj))\n",
        "\n",
        "training_data_len"
      ],
      "metadata": {
        "colab": {
          "base_uri": "https://localhost:8080/"
        },
        "id": "tje_58lN0lyX",
        "outputId": "1a3aba4b-9ba0-4379-d490-1d71b4728830"
      },
      "execution_count": 10,
      "outputs": [
        {
          "output_type": "execute_result",
          "data": {
            "text/plain": [
              "1729"
            ]
          },
          "metadata": {},
          "execution_count": 10
        }
      ]
    },
    {
      "cell_type": "code",
      "source": [
        "train = pfe_adj_arr[0:training_data_len, :]"
      ],
      "metadata": {
        "id": "iZydxr1A0l2C"
      },
      "execution_count": 11,
      "outputs": []
    },
    {
      "cell_type": "code",
      "source": [
        "\n",
        "# Normalise the data\n",
        "scaler = MinMaxScaler(feature_range=(0,1))\n",
        "train_scaled = scaler.fit_transform(train)\n",
        "\n",
        "train_scaled"
      ],
      "metadata": {
        "colab": {
          "base_uri": "https://localhost:8080/"
        },
        "id": "vm7GwX_L0l6j",
        "outputId": "f1588d94-08b1-409d-d868-99453efdf58f"
      },
      "execution_count": 12,
      "outputs": [
        {
          "output_type": "execute_result",
          "data": {
            "text/plain": [
              "array([[0.07102421],\n",
              "       [0.07344295],\n",
              "       [0.07931674],\n",
              "       ...,\n",
              "       [0.92262704],\n",
              "       [0.91225549],\n",
              "       [0.92592731]])"
            ]
          },
          "metadata": {},
          "execution_count": 12
        }
      ]
    },
    {
      "cell_type": "code",
      "source": [
        "train_scaled.shape"
      ],
      "metadata": {
        "colab": {
          "base_uri": "https://localhost:8080/"
        },
        "id": "jVyHouxC1bpf",
        "outputId": "7ccc5838-16e8-4806-84b2-42ae110da4dc"
      },
      "execution_count": 13,
      "outputs": [
        {
          "output_type": "execute_result",
          "data": {
            "text/plain": [
              "(1729, 1)"
            ]
          },
          "metadata": {},
          "execution_count": 13
        }
      ]
    },
    {
      "cell_type": "code",
      "source": [
        "# Creating a data structure with 60 time-steps and 1 output\n",
        "\n",
        "# Split data into X_train and y_train data sets\n",
        "X_train = []\n",
        "y_train = []\n",
        "# Creating a data structure with 60 time-steps and 1 output\n",
        "for i in range(60, len(train_scaled)):\n",
        "    X_train.append(train_scaled[i-60:i, 0])\n",
        "    y_train.append(train_scaled[i:i+1, 0])  \n",
        "    if i <= 61:     # 60 days for first pass, 61 for second\n",
        "      print(X_train)\n",
        "      print(y_train)\n",
        "      print()"
      ],
      "metadata": {
        "colab": {
          "base_uri": "https://localhost:8080/"
        },
        "id": "I_w7MCwd1bsS",
        "outputId": "b1e336e3-4bc6-4180-a6a1-3ec7b4597952"
      },
      "execution_count": 14,
      "outputs": [
        {
          "output_type": "stream",
          "name": "stdout",
          "text": [
            "[array([0.07102421, 0.07344295, 0.07931674, 0.08519025, 0.10419358,\n",
            "       0.09002725, 0.09624668, 0.08311733, 0.08795443, 0.08449909,\n",
            "       0.0827718 , 0.07758897, 0.07447964, 0.06169526, 0.05437562,\n",
            "       0.03485604, 0.04043332, 0.03659887, 0.02474752, 0.02021656,\n",
            "       0.01185088, 0.02230818, 0.01917081, 0.01324522, 0.01777656,\n",
            "       0.03590208, 0.0327649 , 0.03973596, 0.04322172, 0.0414786 ,\n",
            "       0.03903897, 0.04252426, 0.04217606, 0.05263269, 0.06239243,\n",
            "       0.05855846, 0.05890705, 0.05437562, 0.05925535, 0.05820949,\n",
            "       0.06796943, 0.05925535, 0.05333015, 0.0606496 , 0.06727245,\n",
            "       0.0603013 , 0.07738059, 0.08191201, 0.09236893, 0.10038565,\n",
            "       0.09411157, 0.08644316, 0.08191201, 0.09097439, 0.0794721 ,\n",
            "       0.07040953, 0.07215218, 0.06518112, 0.05054146, 0.04740437])]\n",
            "[array([0.05298127])]\n",
            "\n",
            "[array([0.07102421, 0.07344295, 0.07931674, 0.08519025, 0.10419358,\n",
            "       0.09002725, 0.09624668, 0.08311733, 0.08795443, 0.08449909,\n",
            "       0.0827718 , 0.07758897, 0.07447964, 0.06169526, 0.05437562,\n",
            "       0.03485604, 0.04043332, 0.03659887, 0.02474752, 0.02021656,\n",
            "       0.01185088, 0.02230818, 0.01917081, 0.01324522, 0.01777656,\n",
            "       0.03590208, 0.0327649 , 0.03973596, 0.04322172, 0.0414786 ,\n",
            "       0.03903897, 0.04252426, 0.04217606, 0.05263269, 0.06239243,\n",
            "       0.05855846, 0.05890705, 0.05437562, 0.05925535, 0.05820949,\n",
            "       0.06796943, 0.05925535, 0.05333015, 0.0606496 , 0.06727245,\n",
            "       0.0603013 , 0.07738059, 0.08191201, 0.09236893, 0.10038565,\n",
            "       0.09411157, 0.08644316, 0.08191201, 0.09097439, 0.0794721 ,\n",
            "       0.07040953, 0.07215218, 0.06518112, 0.05054146, 0.04740437]), array([0.07344295, 0.07931674, 0.08519025, 0.10419358, 0.09002725,\n",
            "       0.09624668, 0.08311733, 0.08795443, 0.08449909, 0.0827718 ,\n",
            "       0.07758897, 0.07447964, 0.06169526, 0.05437562, 0.03485604,\n",
            "       0.04043332, 0.03659887, 0.02474752, 0.02021656, 0.01185088,\n",
            "       0.02230818, 0.01917081, 0.01324522, 0.01777656, 0.03590208,\n",
            "       0.0327649 , 0.03973596, 0.04322172, 0.0414786 , 0.03903897,\n",
            "       0.04252426, 0.04217606, 0.05263269, 0.06239243, 0.05855846,\n",
            "       0.05890705, 0.05437562, 0.05925535, 0.05820949, 0.06796943,\n",
            "       0.05925535, 0.05333015, 0.0606496 , 0.06727245, 0.0603013 ,\n",
            "       0.07738059, 0.08191201, 0.09236893, 0.10038565, 0.09411157,\n",
            "       0.08644316, 0.08191201, 0.09097439, 0.0794721 , 0.07040953,\n",
            "       0.07215218, 0.06518112, 0.05054146, 0.04740437, 0.05298127])]\n",
            "[array([0.05298127]), array([0.05123844])]\n",
            "\n"
          ]
        }
      ]
    },
    {
      "cell_type": "code",
      "source": [
        "# Convert X_train and y_train to numpy arrays for training LSTM model\n",
        "X_train, y_train = np.array(X_train), np.array(y_train)"
      ],
      "metadata": {
        "id": "pZlkLca-1bvA"
      },
      "execution_count": 15,
      "outputs": []
    },
    {
      "cell_type": "code",
      "source": [
        "# Reshape the data as LSTM expects 3-D data (samples, time steps, features)\n",
        "\n",
        "X_train = np.reshape(X_train, (X_train.shape[0], X_train.shape[1], 1))\n",
        "X_train.shape\n",
        "     "
      ],
      "metadata": {
        "colab": {
          "base_uri": "https://localhost:8080/"
        },
        "id": "q3l5bN4d1bxq",
        "outputId": "96bec9e2-d983-4cc0-ff6d-261ffc83b6c0"
      },
      "execution_count": 16,
      "outputs": [
        {
          "output_type": "execute_result",
          "data": {
            "text/plain": [
              "(1669, 60, 1)"
            ]
          },
          "metadata": {},
          "execution_count": 16
        }
      ]
    },
    {
      "cell_type": "code",
      "source": [
        "\n",
        "# Build model - LSTM with 50 neurons and 4 hidden layers  \n",
        "\n",
        "model = Sequential()\n",
        "#Adding the first LSTM layer and some Dropout regularisation\n",
        "model.add(LSTM(units = 50, return_sequences = True, input_shape = (X_train.shape[1], 1), activation='tanh'))\n",
        "model.add(Dropout(0.2))\n",
        "# Adding a second LSTM layer and some Dropout regularisation\n",
        "model.add(LSTM(units = 50, return_sequences = True, activation='tanh'))\n",
        "model.add(Dropout(0.2))\n",
        "# Adding a third LSTM layer and some Dropout regularisation\n",
        "model.add(LSTM(units = 50, return_sequences = True, activation='tanh'))\n",
        "model.add(Dropout(0.2))\n",
        "# Adding a fourth LSTM layer and some Dropout regularisation\n",
        "model.add(LSTM(units = 50, activation='tanh'))\n",
        "model.add(Dropout(0.2))\n",
        "# Adding the output layer\n",
        "model.add(Dense(units = 1))\n",
        "# Compiling the RNN\n",
        "model.compile(optimizer = 'adam', loss = 'mean_squared_error')\n",
        "# Fitting the RNN to the Training set\n",
        "model.fit(X_train, y_train, epochs = 200, batch_size = 64)"
      ],
      "metadata": {
        "colab": {
          "base_uri": "https://localhost:8080/"
        },
        "id": "UbJsjImE1b1R",
        "outputId": "fca9e2a7-9a7e-4a0b-9c5a-def632cbdf76"
      },
      "execution_count": 17,
      "outputs": [
        {
          "output_type": "stream",
          "name": "stdout",
          "text": [
            "Epoch 1/200\n",
            "27/27 [==============================] - 13s 164ms/step - loss: 0.0482\n",
            "Epoch 2/200\n",
            "27/27 [==============================] - 5s 203ms/step - loss: 0.0078\n",
            "Epoch 3/200\n",
            "27/27 [==============================] - 4s 159ms/step - loss: 0.0070\n",
            "Epoch 4/200\n",
            "27/27 [==============================] - 4s 159ms/step - loss: 0.0060\n",
            "Epoch 5/200\n",
            "27/27 [==============================] - 5s 203ms/step - loss: 0.0059\n",
            "Epoch 6/200\n",
            "27/27 [==============================] - 4s 161ms/step - loss: 0.0060\n",
            "Epoch 7/200\n",
            "27/27 [==============================] - 5s 168ms/step - loss: 0.0054\n",
            "Epoch 8/200\n",
            "27/27 [==============================] - 5s 188ms/step - loss: 0.0050\n",
            "Epoch 9/200\n",
            "27/27 [==============================] - 4s 161ms/step - loss: 0.0051\n",
            "Epoch 10/200\n",
            "27/27 [==============================] - 5s 200ms/step - loss: 0.0049\n",
            "Epoch 11/200\n",
            "27/27 [==============================] - 4s 159ms/step - loss: 0.0052\n",
            "Epoch 12/200\n",
            "27/27 [==============================] - 4s 162ms/step - loss: 0.0049\n",
            "Epoch 13/200\n",
            "27/27 [==============================] - 5s 194ms/step - loss: 0.0049\n",
            "Epoch 14/200\n",
            "27/27 [==============================] - 4s 153ms/step - loss: 0.0045\n",
            "Epoch 15/200\n",
            "27/27 [==============================] - 4s 166ms/step - loss: 0.0043\n",
            "Epoch 16/200\n",
            "27/27 [==============================] - 5s 204ms/step - loss: 0.0040\n",
            "Epoch 17/200\n",
            "27/27 [==============================] - 4s 164ms/step - loss: 0.0040\n",
            "Epoch 18/200\n",
            "27/27 [==============================] - 5s 193ms/step - loss: 0.0038\n",
            "Epoch 19/200\n",
            "27/27 [==============================] - 5s 175ms/step - loss: 0.0037\n",
            "Epoch 20/200\n",
            "27/27 [==============================] - 4s 162ms/step - loss: 0.0037\n",
            "Epoch 21/200\n",
            "27/27 [==============================] - 6s 206ms/step - loss: 0.0035\n",
            "Epoch 22/200\n",
            "27/27 [==============================] - 4s 162ms/step - loss: 0.0036\n",
            "Epoch 23/200\n",
            "27/27 [==============================] - 4s 163ms/step - loss: 0.0038\n",
            "Epoch 24/200\n",
            "27/27 [==============================] - 6s 206ms/step - loss: 0.0037\n",
            "Epoch 25/200\n",
            "27/27 [==============================] - 5s 170ms/step - loss: 0.0039\n",
            "Epoch 26/200\n",
            "27/27 [==============================] - 5s 204ms/step - loss: 0.0039\n",
            "Epoch 27/200\n",
            "27/27 [==============================] - 5s 174ms/step - loss: 0.0037\n",
            "Epoch 28/200\n",
            "27/27 [==============================] - 5s 172ms/step - loss: 0.0034\n",
            "Epoch 29/200\n",
            "27/27 [==============================] - 6s 215ms/step - loss: 0.0035\n",
            "Epoch 30/200\n",
            "27/27 [==============================] - 5s 173ms/step - loss: 0.0041\n",
            "Epoch 31/200\n",
            "27/27 [==============================] - 5s 197ms/step - loss: 0.0030\n",
            "Epoch 32/200\n",
            "27/27 [==============================] - 5s 182ms/step - loss: 0.0033\n",
            "Epoch 33/200\n",
            "27/27 [==============================] - 5s 170ms/step - loss: 0.0030\n",
            "Epoch 34/200\n",
            "27/27 [==============================] - 6s 213ms/step - loss: 0.0028\n",
            "Epoch 35/200\n",
            "27/27 [==============================] - 5s 171ms/step - loss: 0.0043\n",
            "Epoch 36/200\n",
            "27/27 [==============================] - 5s 181ms/step - loss: 0.0029\n",
            "Epoch 37/200\n",
            "27/27 [==============================] - 5s 196ms/step - loss: 0.0029\n",
            "Epoch 38/200\n",
            "27/27 [==============================] - 5s 171ms/step - loss: 0.0027\n",
            "Epoch 39/200\n",
            "27/27 [==============================] - 6s 210ms/step - loss: 0.0028\n",
            "Epoch 40/200\n",
            "27/27 [==============================] - 5s 173ms/step - loss: 0.0029\n",
            "Epoch 41/200\n",
            "27/27 [==============================] - 5s 170ms/step - loss: 0.0026\n",
            "Epoch 42/200\n",
            "27/27 [==============================] - 6s 212ms/step - loss: 0.0027\n",
            "Epoch 43/200\n",
            "27/27 [==============================] - 5s 169ms/step - loss: 0.0025\n",
            "Epoch 44/200\n",
            "27/27 [==============================] - 6s 208ms/step - loss: 0.0044\n",
            "Epoch 45/200\n",
            "27/27 [==============================] - 5s 170ms/step - loss: 0.0026\n",
            "Epoch 46/200\n",
            "27/27 [==============================] - 5s 175ms/step - loss: 0.0024\n",
            "Epoch 47/200\n",
            "27/27 [==============================] - 6s 211ms/step - loss: 0.0026\n",
            "Epoch 48/200\n",
            "27/27 [==============================] - 5s 171ms/step - loss: 0.0024\n",
            "Epoch 49/200\n",
            "27/27 [==============================] - 5s 204ms/step - loss: 0.0026\n",
            "Epoch 50/200\n",
            "27/27 [==============================] - 5s 175ms/step - loss: 0.0022\n",
            "Epoch 51/200\n",
            "27/27 [==============================] - 5s 172ms/step - loss: 0.0023\n",
            "Epoch 52/200\n",
            "27/27 [==============================] - 6s 211ms/step - loss: 0.0023\n",
            "Epoch 53/200\n",
            "27/27 [==============================] - 5s 173ms/step - loss: 0.0022\n",
            "Epoch 54/200\n",
            "27/27 [==============================] - 5s 190ms/step - loss: 0.0023\n",
            "Epoch 55/200\n",
            "27/27 [==============================] - 5s 189ms/step - loss: 0.0022\n",
            "Epoch 56/200\n",
            "27/27 [==============================] - 5s 170ms/step - loss: 0.0024\n",
            "Epoch 57/200\n",
            "27/27 [==============================] - 6s 206ms/step - loss: 0.0024\n",
            "Epoch 58/200\n",
            "27/27 [==============================] - 4s 166ms/step - loss: 0.0022\n",
            "Epoch 59/200\n",
            "27/27 [==============================] - 5s 171ms/step - loss: 0.0020\n",
            "Epoch 60/200\n",
            "27/27 [==============================] - 6s 210ms/step - loss: 0.0021\n",
            "Epoch 61/200\n",
            "27/27 [==============================] - 5s 175ms/step - loss: 0.0023\n",
            "Epoch 62/200\n",
            "27/27 [==============================] - 6s 213ms/step - loss: 0.0021\n",
            "Epoch 63/200\n",
            "27/27 [==============================] - 5s 170ms/step - loss: 0.0022\n",
            "Epoch 64/200\n",
            "27/27 [==============================] - 5s 167ms/step - loss: 0.0020\n",
            "Epoch 65/200\n",
            "27/27 [==============================] - 6s 207ms/step - loss: 0.0021\n",
            "Epoch 66/200\n",
            "27/27 [==============================] - 4s 165ms/step - loss: 0.0021\n",
            "Epoch 67/200\n",
            "27/27 [==============================] - 5s 192ms/step - loss: 0.0020\n",
            "Epoch 68/200\n",
            "27/27 [==============================] - 5s 177ms/step - loss: 0.0020\n",
            "Epoch 69/200\n",
            "27/27 [==============================] - 5s 169ms/step - loss: 0.0019\n",
            "Epoch 70/200\n",
            "27/27 [==============================] - 6s 211ms/step - loss: 0.0020\n",
            "Epoch 71/200\n",
            "27/27 [==============================] - 5s 169ms/step - loss: 0.0020\n",
            "Epoch 72/200\n",
            "27/27 [==============================] - 5s 176ms/step - loss: 0.0020\n",
            "Epoch 73/200\n",
            "27/27 [==============================] - 6s 202ms/step - loss: 0.0019\n",
            "Epoch 74/200\n",
            "27/27 [==============================] - 5s 168ms/step - loss: 0.0018\n",
            "Epoch 75/200\n",
            "27/27 [==============================] - 6s 209ms/step - loss: 0.0020\n",
            "Epoch 76/200\n",
            "27/27 [==============================] - 5s 171ms/step - loss: 0.0020\n",
            "Epoch 77/200\n",
            "27/27 [==============================] - 5s 172ms/step - loss: 0.0017\n",
            "Epoch 78/200\n",
            "27/27 [==============================] - 6s 213ms/step - loss: 0.0017\n",
            "Epoch 79/200\n",
            "27/27 [==============================] - 5s 171ms/step - loss: 0.0018\n",
            "Epoch 80/200\n",
            "27/27 [==============================] - 6s 207ms/step - loss: 0.0017\n",
            "Epoch 81/200\n",
            "27/27 [==============================] - 5s 171ms/step - loss: 0.0017\n",
            "Epoch 82/200\n",
            "27/27 [==============================] - 5s 170ms/step - loss: 0.0017\n",
            "Epoch 83/200\n",
            "27/27 [==============================] - 6s 205ms/step - loss: 0.0017\n",
            "Epoch 84/200\n",
            "27/27 [==============================] - 4s 164ms/step - loss: 0.0017\n",
            "Epoch 85/200\n",
            "27/27 [==============================] - 5s 189ms/step - loss: 0.0019\n",
            "Epoch 86/200\n",
            "27/27 [==============================] - 5s 186ms/step - loss: 0.0018\n",
            "Epoch 87/200\n",
            "27/27 [==============================] - 4s 165ms/step - loss: 0.0017\n",
            "Epoch 88/200\n",
            "27/27 [==============================] - 5s 204ms/step - loss: 0.0016\n",
            "Epoch 89/200\n",
            "27/27 [==============================] - 5s 168ms/step - loss: 0.0014\n",
            "Epoch 90/200\n",
            "27/27 [==============================] - 5s 169ms/step - loss: 0.0016\n",
            "Epoch 91/200\n",
            "27/27 [==============================] - 6s 210ms/step - loss: 0.0015\n",
            "Epoch 92/200\n",
            "27/27 [==============================] - 5s 167ms/step - loss: 0.0015\n",
            "Epoch 93/200\n",
            "27/27 [==============================] - 5s 193ms/step - loss: 0.0017\n",
            "Epoch 94/200\n",
            "27/27 [==============================] - 5s 173ms/step - loss: 0.0016\n",
            "Epoch 95/200\n",
            "27/27 [==============================] - 5s 169ms/step - loss: 0.0015\n",
            "Epoch 96/200\n",
            "27/27 [==============================] - 6s 210ms/step - loss: 0.0016\n",
            "Epoch 97/200\n",
            "27/27 [==============================] - 5s 169ms/step - loss: 0.0016\n",
            "Epoch 98/200\n",
            "27/27 [==============================] - 5s 181ms/step - loss: 0.0015\n",
            "Epoch 99/200\n",
            "27/27 [==============================] - 5s 194ms/step - loss: 0.0017\n",
            "Epoch 100/200\n",
            "27/27 [==============================] - 4s 166ms/step - loss: 0.0015\n",
            "Epoch 101/200\n",
            "27/27 [==============================] - 5s 205ms/step - loss: 0.0014\n",
            "Epoch 102/200\n",
            "27/27 [==============================] - 5s 171ms/step - loss: 0.0017\n",
            "Epoch 103/200\n",
            "27/27 [==============================] - 5s 168ms/step - loss: 0.0014\n",
            "Epoch 104/200\n",
            "27/27 [==============================] - 6s 211ms/step - loss: 0.0015\n",
            "Epoch 105/200\n",
            "27/27 [==============================] - 4s 163ms/step - loss: 0.0014\n",
            "Epoch 106/200\n",
            "27/27 [==============================] - 5s 195ms/step - loss: 0.0014\n",
            "Epoch 107/200\n",
            "27/27 [==============================] - 5s 182ms/step - loss: 0.0014\n",
            "Epoch 108/200\n",
            "27/27 [==============================] - 5s 170ms/step - loss: 0.0015\n",
            "Epoch 109/200\n",
            "27/27 [==============================] - 6s 214ms/step - loss: 0.0016\n",
            "Epoch 110/200\n",
            "27/27 [==============================] - 4s 164ms/step - loss: 0.0013\n",
            "Epoch 111/200\n",
            "27/27 [==============================] - 5s 178ms/step - loss: 0.0014\n",
            "Epoch 112/200\n",
            "27/27 [==============================] - 5s 196ms/step - loss: 0.0014\n",
            "Epoch 113/200\n",
            "27/27 [==============================] - 5s 167ms/step - loss: 0.0013\n",
            "Epoch 114/200\n",
            "27/27 [==============================] - 6s 209ms/step - loss: 0.0013\n",
            "Epoch 115/200\n",
            "27/27 [==============================] - 4s 162ms/step - loss: 0.0014\n",
            "Epoch 116/200\n",
            "27/27 [==============================] - 4s 160ms/step - loss: 0.0013\n",
            "Epoch 117/200\n",
            "27/27 [==============================] - 6s 209ms/step - loss: 0.0013\n",
            "Epoch 118/200\n",
            "27/27 [==============================] - 5s 170ms/step - loss: 0.0015\n",
            "Epoch 119/200\n",
            "27/27 [==============================] - 5s 185ms/step - loss: 0.0012\n",
            "Epoch 120/200\n",
            "27/27 [==============================] - 5s 181ms/step - loss: 0.0013\n",
            "Epoch 121/200\n",
            "27/27 [==============================] - 4s 166ms/step - loss: 0.0012\n",
            "Epoch 122/200\n",
            "27/27 [==============================] - 6s 210ms/step - loss: 0.0012\n",
            "Epoch 123/200\n",
            "27/27 [==============================] - 5s 171ms/step - loss: 0.0013\n",
            "Epoch 124/200\n",
            "27/27 [==============================] - 5s 168ms/step - loss: 0.0014\n",
            "Epoch 125/200\n",
            "27/27 [==============================] - 6s 213ms/step - loss: 0.0013\n",
            "Epoch 126/200\n",
            "27/27 [==============================] - 5s 170ms/step - loss: 0.0012\n",
            "Epoch 127/200\n",
            "27/27 [==============================] - 6s 210ms/step - loss: 0.0012\n",
            "Epoch 128/200\n",
            "27/27 [==============================] - 5s 170ms/step - loss: 0.0014\n",
            "Epoch 129/200\n",
            "27/27 [==============================] - 4s 163ms/step - loss: 0.0012\n",
            "Epoch 130/200\n",
            "27/27 [==============================] - 5s 205ms/step - loss: 0.0013\n",
            "Epoch 131/200\n",
            "27/27 [==============================] - 5s 169ms/step - loss: 0.0012\n",
            "Epoch 132/200\n",
            "27/27 [==============================] - 5s 180ms/step - loss: 0.0013\n",
            "Epoch 133/200\n",
            "27/27 [==============================] - 5s 189ms/step - loss: 0.0012\n",
            "Epoch 134/200\n",
            "27/27 [==============================] - 4s 166ms/step - loss: 0.0013\n",
            "Epoch 135/200\n",
            "27/27 [==============================] - 6s 206ms/step - loss: 0.0015\n",
            "Epoch 136/200\n",
            "27/27 [==============================] - 4s 161ms/step - loss: 0.0015\n",
            "Epoch 137/200\n",
            "27/27 [==============================] - 4s 166ms/step - loss: 0.0012\n",
            "Epoch 138/200\n",
            "27/27 [==============================] - 6s 213ms/step - loss: 0.0012\n",
            "Epoch 139/200\n",
            "27/27 [==============================] - 4s 167ms/step - loss: 0.0012\n",
            "Epoch 140/200\n",
            "27/27 [==============================] - 5s 185ms/step - loss: 0.0011\n",
            "Epoch 141/200\n",
            "27/27 [==============================] - 5s 177ms/step - loss: 0.0011\n",
            "Epoch 142/200\n",
            "27/27 [==============================] - 4s 166ms/step - loss: 0.0011\n",
            "Epoch 143/200\n",
            "27/27 [==============================] - 6s 210ms/step - loss: 0.0012\n",
            "Epoch 144/200\n",
            "27/27 [==============================] - 4s 165ms/step - loss: 0.0011\n",
            "Epoch 145/200\n",
            "27/27 [==============================] - 4s 166ms/step - loss: 0.0012\n",
            "Epoch 146/200\n",
            "27/27 [==============================] - 5s 200ms/step - loss: 0.0011\n",
            "Epoch 147/200\n",
            "27/27 [==============================] - 4s 161ms/step - loss: 0.0010\n",
            "Epoch 148/200\n",
            "27/27 [==============================] - 5s 181ms/step - loss: 0.0014\n",
            "Epoch 149/200\n",
            "27/27 [==============================] - 5s 176ms/step - loss: 0.0010\n",
            "Epoch 150/200\n",
            "27/27 [==============================] - 4s 160ms/step - loss: 0.0011\n",
            "Epoch 151/200\n",
            "27/27 [==============================] - 5s 202ms/step - loss: 0.0011\n",
            "Epoch 152/200\n",
            "27/27 [==============================] - 4s 164ms/step - loss: 0.0011\n",
            "Epoch 153/200\n",
            "27/27 [==============================] - 4s 160ms/step - loss: 0.0011\n",
            "Epoch 154/200\n",
            "27/27 [==============================] - 5s 204ms/step - loss: 0.0010\n",
            "Epoch 155/200\n",
            "27/27 [==============================] - 4s 161ms/step - loss: 0.0011\n",
            "Epoch 156/200\n",
            "27/27 [==============================] - 4s 165ms/step - loss: 0.0011\n",
            "Epoch 157/200\n",
            "27/27 [==============================] - 5s 193ms/step - loss: 0.0012\n",
            "Epoch 158/200\n",
            "27/27 [==============================] - 4s 162ms/step - loss: 0.0011\n",
            "Epoch 159/200\n",
            "27/27 [==============================] - 5s 197ms/step - loss: 0.0011\n",
            "Epoch 160/200\n",
            "27/27 [==============================] - 5s 166ms/step - loss: 0.0011\n",
            "Epoch 161/200\n",
            "27/27 [==============================] - 4s 162ms/step - loss: 0.0010\n",
            "Epoch 162/200\n",
            "27/27 [==============================] - 5s 203ms/step - loss: 0.0010\n",
            "Epoch 163/200\n",
            "27/27 [==============================] - 4s 161ms/step - loss: 9.3724e-04\n",
            "Epoch 164/200\n",
            "27/27 [==============================] - 4s 163ms/step - loss: 0.0010\n",
            "Epoch 165/200\n",
            "27/27 [==============================] - 6s 205ms/step - loss: 0.0012\n",
            "Epoch 166/200\n",
            "27/27 [==============================] - 4s 164ms/step - loss: 0.0011\n",
            "Epoch 167/200\n",
            "27/27 [==============================] - 5s 188ms/step - loss: 9.6324e-04\n",
            "Epoch 168/200\n",
            "27/27 [==============================] - 5s 176ms/step - loss: 0.0010\n",
            "Epoch 169/200\n",
            "27/27 [==============================] - 4s 161ms/step - loss: 0.0011\n",
            "Epoch 170/200\n",
            "27/27 [==============================] - 6s 205ms/step - loss: 0.0010\n",
            "Epoch 171/200\n",
            "27/27 [==============================] - 4s 161ms/step - loss: 9.6788e-04\n",
            "Epoch 172/200\n",
            "27/27 [==============================] - 4s 162ms/step - loss: 0.0011\n",
            "Epoch 173/200\n",
            "27/27 [==============================] - 5s 202ms/step - loss: 0.0011\n",
            "Epoch 174/200\n",
            "27/27 [==============================] - 4s 160ms/step - loss: 9.7494e-04\n",
            "Epoch 175/200\n",
            "27/27 [==============================] - 5s 182ms/step - loss: 0.0010\n",
            "Epoch 176/200\n",
            "27/27 [==============================] - 5s 182ms/step - loss: 9.4574e-04\n",
            "Epoch 177/200\n",
            "27/27 [==============================] - 4s 161ms/step - loss: 0.0010\n",
            "Epoch 178/200\n",
            "27/27 [==============================] - 5s 201ms/step - loss: 0.0012\n",
            "Epoch 179/200\n",
            "27/27 [==============================] - 4s 163ms/step - loss: 0.0010\n",
            "Epoch 180/200\n",
            "27/27 [==============================] - 4s 165ms/step - loss: 0.0011\n",
            "Epoch 181/200\n",
            "27/27 [==============================] - 5s 205ms/step - loss: 0.0011\n",
            "Epoch 182/200\n",
            "27/27 [==============================] - 4s 165ms/step - loss: 9.4067e-04\n",
            "Epoch 183/200\n",
            "27/27 [==============================] - 5s 170ms/step - loss: 0.0011\n",
            "Epoch 184/200\n",
            "27/27 [==============================] - 5s 195ms/step - loss: 0.0010\n",
            "Epoch 185/200\n",
            "27/27 [==============================] - 4s 165ms/step - loss: 9.4580e-04\n",
            "Epoch 186/200\n",
            "27/27 [==============================] - 6s 208ms/step - loss: 0.0010\n",
            "Epoch 187/200\n",
            "27/27 [==============================] - 4s 165ms/step - loss: 9.0560e-04\n",
            "Epoch 188/200\n",
            "27/27 [==============================] - 5s 166ms/step - loss: 9.8546e-04\n",
            "Epoch 189/200\n",
            "27/27 [==============================] - 6s 205ms/step - loss: 9.9051e-04\n",
            "Epoch 190/200\n",
            "27/27 [==============================] - 5s 168ms/step - loss: 9.9584e-04\n",
            "Epoch 191/200\n",
            "27/27 [==============================] - 5s 182ms/step - loss: 0.0013\n",
            "Epoch 192/200\n",
            "27/27 [==============================] - 5s 186ms/step - loss: 0.0010\n",
            "Epoch 193/200\n",
            "27/27 [==============================] - 4s 163ms/step - loss: 0.0010\n",
            "Epoch 194/200\n",
            "27/27 [==============================] - 5s 203ms/step - loss: 9.8352e-04\n",
            "Epoch 195/200\n",
            "27/27 [==============================] - 4s 163ms/step - loss: 9.3857e-04\n",
            "Epoch 196/200\n",
            "27/27 [==============================] - 4s 163ms/step - loss: 9.3834e-04\n",
            "Epoch 197/200\n",
            "27/27 [==============================] - 5s 204ms/step - loss: 0.0011\n",
            "Epoch 198/200\n",
            "27/27 [==============================] - 4s 154ms/step - loss: 0.0010\n",
            "Epoch 199/200\n",
            "27/27 [==============================] - 4s 164ms/step - loss: 0.0010\n",
            "Epoch 200/200\n",
            "27/27 [==============================] - 5s 199ms/step - loss: 0.0010\n"
          ]
        },
        {
          "output_type": "execute_result",
          "data": {
            "text/plain": [
              "<keras.callbacks.History at 0x7f14c047c0d0>"
            ]
          },
          "metadata": {},
          "execution_count": 17
        }
      ]
    },
    {
      "cell_type": "code",
      "source": [
        "test = pfe_adj_arr[training_data_len: , :]"
      ],
      "metadata": {
        "id": "93CRWklX1b2f"
      },
      "execution_count": 18,
      "outputs": []
    },
    {
      "cell_type": "code",
      "source": [
        "test.shape"
      ],
      "metadata": {
        "colab": {
          "base_uri": "https://localhost:8080/"
        },
        "id": "0_0WNair1b5t",
        "outputId": "3c7613f6-8d3c-4868-bf3a-9e9e8b7a27f5"
      },
      "execution_count": 19,
      "outputs": [
        {
          "output_type": "execute_result",
          "data": {
            "text/plain": [
              "(433, 1)"
            ]
          },
          "metadata": {},
          "execution_count": 19
        }
      ]
    },
    {
      "cell_type": "code",
      "source": [
        "\n",
        "# Predicting 253 values, using past 60 from the train data\n",
        "inputs = pfe_adj_arr[len(pfe_adj_arr) - len(test) - 60:]\n",
        "inputs = inputs.reshape(-1,1)\n",
        "inputs  = scaler.transform(inputs)\n",
        "     "
      ],
      "metadata": {
        "id": "ssobntfu1b7K"
      },
      "execution_count": 20,
      "outputs": []
    },
    {
      "cell_type": "code",
      "source": [
        "# Create data sets X_test and y_test\n",
        "X_test = []\n",
        "y_test = pfe_adj_arr[training_data_len:, :]\n",
        "for i in range(60,inputs.shape[0]):\n",
        "    X_test.append(inputs[i-60:i,0])"
      ],
      "metadata": {
        "id": "jGmTiZ3z1b-f"
      },
      "execution_count": 21,
      "outputs": []
    },
    {
      "cell_type": "code",
      "source": [
        "# Convert data to numpy array\n",
        "X_test = np.array(X_test)"
      ],
      "metadata": {
        "id": "4bl8QsaX1cAN"
      },
      "execution_count": 22,
      "outputs": []
    },
    {
      "cell_type": "code",
      "source": [
        "# Reshape data to be 3-D\n",
        "X_test = np.reshape(X_test, (X_test.shape[0], X_test.shape[1], 1))"
      ],
      "metadata": {
        "id": "bUkIhuz01cCg"
      },
      "execution_count": 23,
      "outputs": []
    },
    {
      "cell_type": "code",
      "source": [
        "\n",
        "print(X_test.shape)"
      ],
      "metadata": {
        "colab": {
          "base_uri": "https://localhost:8080/"
        },
        "id": "9sNHdZ4x59Uo",
        "outputId": "258b2b2e-0e41-4995-e6cf-6dd282e8bc0d"
      },
      "execution_count": 24,
      "outputs": [
        {
          "output_type": "stream",
          "name": "stdout",
          "text": [
            "(433, 60, 1)\n"
          ]
        }
      ]
    },
    {
      "cell_type": "code",
      "source": [
        "# We want predictions to contain same values as y_test data set\n",
        "predictions = model.predict(X_test)\n",
        "predictions = scaler.inverse_transform(predictions)"
      ],
      "metadata": {
        "colab": {
          "base_uri": "https://localhost:8080/"
        },
        "id": "-u0YV2lW59Xt",
        "outputId": "bf781904-759d-4847-fea8-241eaa3c8382"
      },
      "execution_count": 25,
      "outputs": [
        {
          "output_type": "stream",
          "name": "stdout",
          "text": [
            "14/14 [==============================] - 2s 31ms/step\n"
          ]
        }
      ]
    },
    {
      "cell_type": "code",
      "source": [
        "predictions.shape"
      ],
      "metadata": {
        "colab": {
          "base_uri": "https://localhost:8080/"
        },
        "id": "rSdHYp1259bB",
        "outputId": "9b4cdddb-7cc1-4736-db2f-f38c53885ea2"
      },
      "execution_count": 26,
      "outputs": [
        {
          "output_type": "execute_result",
          "data": {
            "text/plain": [
              "(433, 1)"
            ]
          },
          "metadata": {},
          "execution_count": 26
        }
      ]
    },
    {
      "cell_type": "code",
      "source": [
        "rmse = np.sqrt(np.mean(predictions - y_test)**2)  \n",
        "rmse"
      ],
      "metadata": {
        "colab": {
          "base_uri": "https://localhost:8080/"
        },
        "id": "4r2j47p259eq",
        "outputId": "9b85f856-0ce3-433a-b92d-f5c614520ad5"
      },
      "execution_count": 27,
      "outputs": [
        {
          "output_type": "execute_result",
          "data": {
            "text/plain": [
              "2.6344023477673257"
            ]
          },
          "metadata": {},
          "execution_count": 27
        }
      ]
    },
    {
      "cell_type": "code",
      "source": [
        "# Plot predicted vs actual values  \n",
        "train = pfe_adj[:training_data_len]\n",
        "test = pfe_adj[training_data_len:]\n",
        "test['Predictions'] = predictions\n",
        "\n",
        "plt.figure(figsize=(20,10))\n",
        "sns.set_style(\"whitegrid\")\n",
        "plt.plot(train['Adj Close'], label='Training')\n",
        "plt.plot(test['Adj Close'], label='Actual')\n",
        "plt.plot(test['Predictions'], label='Predicted')\n",
        "plt.title(\"PFE Close Price - LSTM\", color = 'black', fontsize = 20)\n",
        "plt.xlabel('Year', color = 'black', fontsize = 15)\n",
        "plt.ylabel('Stock Price', color = 'black', fontsize = 15)\n",
        "plt.legend();"
      ],
      "metadata": {
        "colab": {
          "base_uri": "https://localhost:8080/",
          "height": 603
        },
        "id": "HL3cMol-6Yc5",
        "outputId": "333fc109-96cd-401e-c930-c91879c215e3"
      },
      "execution_count": 29,
      "outputs": [
        {
          "output_type": "display_data",
          "data": {
            "text/plain": [
              "<Figure size 1440x720 with 1 Axes>"
            ],
            "image/png": "[encoded data removed]"
          },
          "metadata": {}
        }
      ]
    },
    {
      "cell_type": "code",
      "source": [
        "test"
      ],
      "metadata": {
        "colab": {
          "base_uri": "https://localhost:8080/",
          "height": 455
        },
        "id": "3hXnSFbV6xM5",
        "outputId": "c2ad017e-e116-48bb-9e40-a2a2d572d6d4"
      },
      "execution_count": 30,
      "outputs": [
        {
          "output_type": "execute_result",
          "data": {
            "text/plain": [
              "            Adj Close  Predictions\n",
              "Date                              \n",
              "2021-05-21  37.666607    37.463070\n",
              "2021-05-24  37.534618    37.378540\n",
              "2021-05-25  37.082047    37.237461\n",
              "2021-05-26  36.695477    36.874428\n",
              "2021-05-27  36.440910    36.525234\n",
              "...               ...          ...\n",
              "2023-02-02  44.340000    42.391304\n",
              "2023-02-03  44.060001    42.644157\n",
              "2023-02-06  43.759998    42.495907\n",
              "2023-02-07  43.590000    42.276077\n",
              "2023-02-08  43.980000    42.181358\n",
              "\n",
              "[433 rows x 2 columns]"
            ],
            "text/html": [
              "\n",
              "  <div id=\"df-c69be161-91a5-45ea-91f7-c92ab973f1c8\">\n",
              "    <div class=\"colab-df-container\">\n",
              "      <div>\n",
              "<style scoped>\n",
              "    .dataframe tbody tr th:only-of-type {\n",
              "        vertical-align: middle;\n",
              "    }\n",
              "\n",
              "    .dataframe tbody tr th {\n",
              "        vertical-align: top;\n",
              "    }\n",
              "\n",
              "    .dataframe thead th {\n",
              "        text-align: right;\n",
              "    }\n",
              "</style>\n",
              "<table border=\"1\" class=\"dataframe\">\n",
              "  <thead>\n",
              "    <tr style=\"text-align: right;\">\n",
              "      <th></th>\n",
              "      <th>Adj Close</th>\n",
              "      <th>Predictions</th>\n",
              "    </tr>\n",
              "    <tr>\n",
              "      <th>Date</th>\n",
              "      <th></th>\n",
              "      <th></th>\n",
              "    </tr>\n",
              "  </thead>\n",
              "  <tbody>\n",
              "    <tr>\n",
              "      <th>2021-05-21</th>\n",
              "      <td>37.666607</td>\n",
              "      <td>37.463070</td>\n",
              "    </tr>\n",
              "    <tr>\n",
              "      <th>2021-05-24</th>\n",
              "      <td>37.534618</td>\n",
              "      <td>37.378540</td>\n",
              "    </tr>\n",
              "    <tr>\n",
              "      <th>2021-05-25</th>\n",
              "      <td>37.082047</td>\n",
              "      <td>37.237461</td>\n",
              "    </tr>\n",
              "    <tr>\n",
              "      <th>2021-05-26</th>\n",
              "      <td>36.695477</td>\n",
              "      <td>36.874428</td>\n",
              "    </tr>\n",
              "    <tr>\n",
              "      <th>2021-05-27</th>\n",
              "      <td>36.440910</td>\n",
              "      <td>36.525234</td>\n",
              "    </tr>\n",
              "    <tr>\n",
              "      <th>...</th>\n",
              "      <td>...</td>\n",
              "      <td>...</td>\n",
              "    </tr>\n",
              "    <tr>\n",
              "      <th>2023-02-02</th>\n",
              "      <td>44.340000</td>\n",
              "      <td>42.391304</td>\n",
              "    </tr>\n",
              "    <tr>\n",
              "      <th>2023-02-03</th>\n",
              "      <td>44.060001</td>\n",
              "      <td>42.644157</td>\n",
              "    </tr>\n",
              "    <tr>\n",
              "      <th>2023-02-06</th>\n",
              "      <td>43.759998</td>\n",
              "      <td>42.495907</td>\n",
              "    </tr>\n",
              "    <tr>\n",
              "      <th>2023-02-07</th>\n",
              "      <td>43.590000</td>\n",
              "      <td>42.276077</td>\n",
              "    </tr>\n",
              "    <tr>\n",
              "      <th>2023-02-08</th>\n",
              "      <td>43.980000</td>\n",
              "      <td>42.181358</td>\n",
              "    </tr>\n",
              "  </tbody>\n",
              "</table>\n",
              "<p>433 rows × 2 columns</p>\n",
              "</div>\n",
              "      <button class=\"colab-df-convert\" onclick=\"convertToInteractive('df-c69be161-91a5-45ea-91f7-c92ab973f1c8')\"\n",
              "              title=\"Convert this dataframe to an interactive table.\"\n",
              "              style=\"display:none;\">\n",
              "        \n",
              "  <svg xmlns=\"http://www.w3.org/2000/svg\" height=\"24px\"viewBox=\"0 0 24 24\"\n",
              "       width=\"24px\">\n",
              "    <path d=\"M0 0h24v24H0V0z\" fill=\"none\"/>\n",
              "    <path d=\"M18.56 5.44l.94 2.06.94-2.06 2.06-.94-2.06-.94-.94-2.06-.94 2.06-2.06.94zm-11 1L8.5 8.5l.94-2.06 2.06-.94-2.06-.94L8.5 2.5l-.94 2.06-2.06.94zm10 10l.94 2.06.94-2.06 2.06-.94-2.06-.94-.94-2.06-.94 2.06-2.06.94z\"/><path d=\"M17.41 7.96l-1.37-1.37c-.4-.4-.92-.59-1.43-.59-.52 0-1.04.2-1.43.59L10.3 9.45l-7.72 7.72c-.78.78-.78 2.05 0 2.83L4 21.41c.39.39.9.59 1.41.59.51 0 1.02-.2 1.41-.59l7.78-7.78 2.81-2.81c.8-.78.8-2.07 0-2.86zM5.41 20L4 18.59l7.72-7.72 1.47 1.35L5.41 20z\"/>\n",
              "  </svg>\n",
              "      </button>\n",
              "      \n",
              "  <style>\n",
              "    .colab-df-container {\n",
              "      display:flex;\n",
              "      flex-wrap:wrap;\n",
              "      gap: 12px;\n",
              "    }\n",
              "\n",
              "    .colab-df-convert {\n",
              "      background-color: #E8F0FE;\n",
              "      border: none;\n",
              "      border-radius: 50%;\n",
              "      cursor: pointer;\n",
              "      display: none;\n",
              "      fill: #1967D2;\n",
              "      height: 32px;\n",
              "      padding: 0 0 0 0;\n",
              "      width: 32px;\n",
              "    }\n",
              "\n",
              "    .colab-df-convert:hover {\n",
              "      background-color: #E2EBFA;\n",
              "      box-shadow: 0px 1px 2px rgba(60, 64, 67, 0.3), 0px 1px 3px 1px rgba(60, 64, 67, 0.15);\n",
              "      fill: #174EA6;\n",
              "    }\n",
              "\n",
              "    [theme=dark] .colab-df-convert {\n",
              "      background-color: #3B4455;\n",
              "      fill: #D2E3FC;\n",
              "    }\n",
              "\n",
              "    [theme=dark] .colab-df-convert:hover {\n",
              "      background-color: #434B5C;\n",
              "      box-shadow: 0px 1px 3px 1px rgba(0, 0, 0, 0.15);\n",
              "      filter: drop-shadow(0px 1px 2px rgba(0, 0, 0, 0.3));\n",
              "      fill: #FFFFFF;\n",
              "    }\n",
              "  </style>\n",
              "\n",
              "      <script>\n",
              "        const buttonEl =\n",
              "          document.querySelector('#df-c69be161-91a5-45ea-91f7-c92ab973f1c8 button.colab-df-convert');\n",
              "        buttonEl.style.display =\n",
              "          google.colab.kernel.accessAllowed ? 'block' : 'none';\n",
              "\n",
              "        async function convertToInteractive(key) {\n",
              "          const element = document.querySelector('#df-c69be161-91a5-45ea-91f7-c92ab973f1c8');\n",
              "          const dataTable =\n",
              "            await google.colab.kernel.invokeFunction('convertToInteractive',\n",
              "                                                     [key], {});\n",
              "          if (!dataTable) return;\n",
              "\n",
              "          const docLinkHtml = 'Like what you see? Visit the ' +\n",
              "            '<a target=\"_blank\" href=https://colab.research.google.com/notebooks/data_table.ipynb>data table notebook</a>'\n",
              "            + ' to learn more about interactive tables.';\n",
              "          element.innerHTML = '';\n",
              "          dataTable['output_type'] = 'display_data';\n",
              "          await google.colab.output.renderOutput(dataTable, element);\n",
              "          const docLink = document.createElement('div');\n",
              "          docLink.innerHTML = docLinkHtml;\n",
              "          element.appendChild(docLink);\n",
              "        }\n",
              "      </script>\n",
              "    </div>\n",
              "  </div>\n",
              "  "
            ]
          },
          "metadata": {},
          "execution_count": 30
        }
      ]
    }
  ]
}